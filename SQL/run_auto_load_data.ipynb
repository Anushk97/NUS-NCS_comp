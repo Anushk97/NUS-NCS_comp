{
 "cells": [
  {
   "cell_type": "code",
   "execution_count": 5,
   "metadata": {},
   "outputs": [
    {
     "name": "stdout",
     "output_type": "stream",
     "text": [
      "File ./Data/estimated_travel_times/estimated_travel_times.csv modified. Loading data into estimated_travel_times table...\n",
      "\n",
      "Data loaded into estimated_travel_times table successfully\n",
      "File ./Data/estimated_travel_times/estimated_travel_times.csv modified. Loading data into estimated_travel_times table...\n",
      "\n",
      "Data loaded into estimated_travel_times table successfully\n",
      "File ./Data/carpark_avail/carpark_avail.csv modified. Loading data into carpark_avail table...\n",
      "\n",
      "Data loaded into carpark_avail table successfully\n",
      "File ./Data/carpark_avail/carpark_avail.csv modified. Loading data into carpark_avail table...\n",
      "\n",
      "Data loaded into carpark_avail table successfully\n",
      "File ./Data/bus_routes/bus_routes.csv modified. Loading data into bus_routes table...\n",
      "\n",
      "Data loaded into bus_routes table successfully\n",
      "File ./Data/bus_routes/bus_routes.csv modified. Loading data into bus_routes table...\n",
      "\n",
      "Data loaded into bus_routes table successfully\n",
      "File ./Data/bus_stops/bus_stops.csv modified. Loading data into bus_stops table...\n",
      "\n",
      "Data loaded into bus_stops table successfully\n",
      "File ./Data/bus_stops/bus_stops.csv modified. Loading data into bus_stops table...\n",
      "\n",
      "Data loaded into bus_stops table successfully\n",
      "File ./Data/taxi_availability/taxi_availability.csv modified. Loading data into taxi_availability table...\n",
      "\n",
      "Error loading data.\n",
      "File ./Data/taxi_availability/taxi_availability.csv modified. Loading data into taxi_availability table...\n",
      "\n"
     ]
    }
   ],
   "source": [
    "%run auto_load_data_v3"
   ]
  }
 ],
 "metadata": {
  "kernelspec": {
   "display_name": "Python 3",
   "language": "python",
   "name": "python3"
  },
  "language_info": {
   "codemirror_mode": {
    "name": "ipython",
    "version": 3
   },
   "file_extension": ".py",
   "mimetype": "text/x-python",
   "name": "python",
   "nbconvert_exporter": "python",
   "pygments_lexer": "ipython3",
   "version": "3.10.9"
  }
 },
 "nbformat": 4,
 "nbformat_minor": 4
}
